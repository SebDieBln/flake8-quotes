{
 "cells": [
  {
   "cell_type": "code",
   "execution_count": 35,
   "metadata": {
    "collapsed": false
   },
   "outputs": [
    {
     "name": "stdout",
     "output_type": "stream",
     "text": [
      " 1: __author__ = \"Javier\"\n",
      " 2: \n",
      " 3: class A:\n",
      " 4:     \"\"\"\n",
      " 5:     muh\n",
      " 6:     \"\"\"\n",
      " 7:     def __init__(self, string=\"asdf\", bstring='asdf'):\n",
      " 8:         ''' asdfa\n",
      " 9:         '''\n",
      "10:         self.a = \"asfdk\"\n",
      "11:         self.b = \"jasdf'asd\"\n",
      "12:         self.c = 'asdf'\n",
      "13:         self.d = \"Javier's\" \\\n",
      "14:                 'Domingo'\n",
      "15:         self.e = b\"asdf\"\n",
      "16:         self.f = r\"sad\"\n",
      "17:         print(\"abcde\", string)\n"
     ]
    }
   ],
   "source": [
    "import ast\n",
    "import math\n",
    "\n",
    "sample_file = open('sample_file.py')\n",
    "fast = ast.parse(sample_file.read())\n",
    "\n",
    "sample_file.seek(0)\n",
    "lines = sample_file.readlines()\n",
    "fill = math.ceil(math.log(len(lines), 10))\n",
    "fmt = '{:%s}: {}' % (fill)\n",
    "for i,l in enumerate(lines,start=1):\n",
    "    print(fmt.format(i,l), end='')"
   ]
  },
  {
   "cell_type": "code",
   "execution_count": 15,
   "metadata": {
    "collapsed": false
   },
   "outputs": [
    {
     "data": {
      "text/plain": [
       "'Module(body=[Assign(targets=[Name(id=\\'__author__\\', ctx=Store(), lineno=1, col_offset=0)], value=Str(s=\\'Javier\\', lineno=1, col_offset=13), lineno=1, col_offset=0), ClassDef(name=\\'A\\', bases=[], keywords=[], starargs=None, kwargs=None, body=[Expr(value=Str(s=\\'\\\\n    muh\\\\n    \\', lineno=6, col_offset=-1), lineno=6, col_offset=-1), FunctionDef(name=\\'__init__\\', args=arguments(args=[arg(arg=\\'self\\', annotation=None, lineno=7, col_offset=17), arg(arg=\\'string\\', annotation=None, lineno=7, col_offset=23), arg(arg=\\'bstring\\', annotation=None, lineno=7, col_offset=38)], vararg=None, kwonlyargs=[], kw_defaults=[], kwarg=None, defaults=[Str(s=\\'asdf\\', lineno=7, col_offset=30), Str(s=\\'asdf\\', lineno=7, col_offset=46)]), body=[Expr(value=Str(s=\\' asdfa\\\\n        \\', lineno=9, col_offset=-1), lineno=9, col_offset=-1), Assign(targets=[Attribute(value=Name(id=\\'self\\', ctx=Load(), lineno=10, col_offset=8), attr=\\'a\\', ctx=Store(), lineno=10, col_offset=8)], value=Str(s=\\'asfdk\\', lineno=10, col_offset=17), lineno=10, col_offset=8), Assign(targets=[Attribute(value=Name(id=\\'self\\', ctx=Load(), lineno=11, col_offset=8), attr=\\'b\\', ctx=Store(), lineno=11, col_offset=8)], value=Str(s=\"jasdf\\'asd\", lineno=11, col_offset=17), lineno=11, col_offset=8), Assign(targets=[Attribute(value=Name(id=\\'self\\', ctx=Load(), lineno=12, col_offset=8), attr=\\'c\\', ctx=Store(), lineno=12, col_offset=8)], value=Str(s=\\'asdf\\', lineno=12, col_offset=17), lineno=12, col_offset=8), Assign(targets=[Attribute(value=Name(id=\\'self\\', ctx=Load(), lineno=13, col_offset=8), attr=\\'d\\', ctx=Store(), lineno=13, col_offset=8)], value=Str(s=\"Javier\\'sDomingo\", lineno=13, col_offset=17), lineno=13, col_offset=8), Assign(targets=[Attribute(value=Name(id=\\'self\\', ctx=Load(), lineno=15, col_offset=8), attr=\\'e\\', ctx=Store(), lineno=15, col_offset=8)], value=Bytes(s=b\\'asdf\\', lineno=15, col_offset=17), lineno=15, col_offset=8), Assign(targets=[Attribute(value=Name(id=\\'self\\', ctx=Load(), lineno=16, col_offset=8), attr=\\'f\\', ctx=Store(), lineno=16, col_offset=8)], value=Str(s=\\'sad\\', lineno=16, col_offset=17), lineno=16, col_offset=8), Expr(value=Call(func=Name(id=\\'print\\', ctx=Load(), lineno=17, col_offset=8), args=[Str(s=\\'abcde\\', lineno=17, col_offset=14), Name(id=\\'string\\', ctx=Load(), lineno=17, col_offset=23)], keywords=[], starargs=None, kwargs=None, lineno=17, col_offset=8), lineno=17, col_offset=8)], decorator_list=[], returns=None, lineno=7, col_offset=4)], decorator_list=[], lineno=3, col_offset=0)])'"
      ]
     },
     "execution_count": 15,
     "metadata": {},
     "output_type": "execute_result"
    }
   ],
   "source": [
    "ast.dump(fast, True, True)"
   ]
  },
  {
   "cell_type": "code",
   "execution_count": 10,
   "metadata": {
    "collapsed": true
   },
   "outputs": [],
   "source": [
    "class StringChecker(ast.NodeVisitor):\n",
    "    def visit_Str(self, node):\n",
    "        print(ast.dump(node, True, True))"
   ]
  },
  {
   "cell_type": "code",
   "execution_count": 11,
   "metadata": {
    "collapsed": false
   },
   "outputs": [
    {
     "name": "stdout",
     "output_type": "stream",
     "text": [
      "Str(s='Javier', lineno=1, col_offset=13)\n",
      "Str(s='\\n    muh\\n    ', lineno=6, col_offset=-1)\n",
      "Str(s='asdf', lineno=7, col_offset=30)\n",
      "Str(s='asdf', lineno=7, col_offset=46)\n",
      "Str(s=' asdfa\\n        ', lineno=9, col_offset=-1)\n",
      "Str(s='asfdk', lineno=10, col_offset=17)\n",
      "Str(s=\"jasdf'asd\", lineno=11, col_offset=17)\n",
      "Str(s='asdf', lineno=12, col_offset=17)\n",
      "Str(s=\"Javier'sDomingo\", lineno=13, col_offset=17)\n",
      "Str(s='sad', lineno=16, col_offset=17)\n",
      "Str(s='abcde', lineno=17, col_offset=14)\n"
     ]
    }
   ],
   "source": [
    "s = StringChecker()\n",
    "s.visit(fast)"
   ]
  },
  {
   "cell_type": "code",
   "execution_count": 27,
   "metadata": {
    "collapsed": false
   },
   "outputs": [
    {
     "ename": "NameError",
     "evalue": "name 'log' is not defined",
     "output_type": "error",
     "traceback": [
      "\u001b[1;31m---------------------------------------------------------------------------\u001b[0m",
      "\u001b[1;31mNameError\u001b[0m                                 Traceback (most recent call last)",
      "\u001b[1;32m<ipython-input-27-7dbe859c6902>\u001b[0m in \u001b[0;36m<module>\u001b[1;34m()\u001b[0m\n\u001b[1;32m----> 1\u001b[1;33m \u001b[0mlog\u001b[0m\u001b[1;33m(\u001b[0m\u001b[1;36m10\u001b[0m\u001b[1;33m)\u001b[0m\u001b[1;33m\u001b[0m\u001b[0m\n\u001b[0m",
      "\u001b[1;31mNameError\u001b[0m: name 'log' is not defined"
     ]
    }
   ],
   "source": [
    "log(10)"
   ]
  },
  {
   "cell_type": "code",
   "execution_count": null,
   "metadata": {
    "collapsed": true
   },
   "outputs": [],
   "source": []
  }
 ],
 "metadata": {
  "kernelspec": {
   "display_name": "Python 3",
   "language": "python",
   "name": "python3"
  },
  "language_info": {
   "codemirror_mode": {
    "name": "ipython",
    "version": 3
   },
   "file_extension": ".py",
   "mimetype": "text/x-python",
   "name": "python",
   "nbconvert_exporter": "python",
   "pygments_lexer": "ipython3",
   "version": "3.4.3"
  }
 },
 "nbformat": 4,
 "nbformat_minor": 0
}
